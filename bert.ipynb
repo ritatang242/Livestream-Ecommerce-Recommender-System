{
 "cells": [
  {
   "cell_type": "code",
   "execution_count": 1,
   "metadata": {},
   "outputs": [],
   "source": [
    "import numpy as np\n",
    "import pandas as pd\n",
    "import pickle\n",
    "import torch\n",
    "import torch.nn as nn\n",
    "from torch.nn.utils.rnn import pad_sequence\n",
    "from transformers import (\n",
    "  BertTokenizerFast,\n",
    "  AutoModel,\n",
    ")\n",
    "from customized.preprocess import BertTokenDataset"
   ]
  },
  {
   "cell_type": "code",
   "execution_count": 2,
   "metadata": {},
   "outputs": [],
   "source": [
    "prod = pd.read_pickle('data/prod.pkl')\n",
    "item_names = list(set(prod.name))\n",
    "item_max_len = max([len(i) for i in item_names])"
   ]
  },
  {
   "cell_type": "markdown",
   "metadata": {},
   "source": [
    "### pre-trained BERT"
   ]
  },
  {
   "cell_type": "code",
   "execution_count": 3,
   "metadata": {},
   "outputs": [
    {
     "name": "stderr",
     "output_type": "stream",
     "text": [
      "Some weights of the model checkpoint at ckiplab/bert-base-chinese were not used when initializing BertModel: ['cls.predictions.transform.dense.bias', 'cls.predictions.decoder.bias', 'cls.predictions.transform.LayerNorm.bias', 'cls.predictions.bias', 'cls.predictions.transform.LayerNorm.weight', 'cls.predictions.transform.dense.weight', 'cls.predictions.decoder.weight']\n",
      "- This IS expected if you are initializing BertModel from the checkpoint of a model trained on another task or with another architecture (e.g. initializing a BertForSequenceClassification model from a BertForPreTraining model).\n",
      "- This IS NOT expected if you are initializing BertModel from the checkpoint of a model that you expect to be exactly identical (initializing a BertForSequenceClassification model from a BertForSequenceClassification model).\n",
      "Some weights of BertModel were not initialized from the model checkpoint at ckiplab/bert-base-chinese and are newly initialized: ['bert.pooler.dense.weight', 'bert.pooler.dense.bias']\n",
      "You should probably TRAIN this model on a down-stream task to be able to use it for predictions and inference.\n",
      "/usr/local/lib/python3.6/dist-packages/transformers/tokenization_utils_base.py:2280: UserWarning: `max_length` is ignored when `padding`=`True` and there is no truncation strategy. To pad to max length, use `padding='max_length'`.\n",
      "  \"`max_length` is ignored when `padding`=`True` and there is no truncation strategy. \"\n"
     ]
    },
    {
     "name": "stdout",
     "output_type": "stream",
     "text": [
      "torch.Size([247092, 94])\n",
      "Step [500/7722]\n",
      "Step [1000/7722]\n",
      "Step [1500/7722]\n",
      "Step [2000/7722]\n",
      "Step [2500/7722]\n",
      "Step [3000/7722]\n",
      "Step [3500/7722]\n",
      "Step [4000/7722]\n",
      "Step [4500/7722]\n",
      "Step [5000/7722]\n",
      "Step [5500/7722]\n",
      "Step [6000/7722]\n",
      "Step [6500/7722]\n",
      "Step [7000/7722]\n",
      "Step [7500/7722]\n",
      "(247092, 768)\n"
     ]
    }
   ],
   "source": [
    "device = torch.device(\"cuda\" if torch.cuda.is_available() else \"cpu\")\n",
    "\n",
    "tokenizer = BertTokenizerFast.from_pretrained('bert-base-chinese')\n",
    "bert_model = AutoModel.from_pretrained('ckiplab/bert-base-chinese').to(device)\n",
    "\n",
    "tokenizer_result = tokenizer(item_names, max_length=item_max_len, padding=True, return_attention_mask=True, return_tensors='pt')\n",
    "input_ids = tokenizer_result.input_ids\n",
    "attention_mask = tokenizer_result.attention_mask\n",
    "print(input_ids.shape)\n",
    "\n",
    "token_dataset = BertTokenDataset(input_ids)\n",
    "token_dataloader = torch.utils.data.DataLoader(token_dataset, shuffle=False, batch_size=32)\n",
    "\n",
    "item_embeddings = []\n",
    "\n",
    "for i, x in enumerate(token_dataloader):\n",
    "    x = x.to(device)\n",
    "    embedding = bert_model(x).pooler_output\n",
    "    embedding = embedding.tolist()\n",
    "    item_embeddings.extend(embedding)\n",
    "    if (i+1) % 500 == 0:\n",
    "        print(\"Step [{}/{}]\" .format(i+1, len(token_dataloader)))\n",
    "\n",
    "item_embeddings = np.array(item_embeddings)\n",
    "print(item_embeddings.shape)"
   ]
  },
  {
   "cell_type": "code",
   "execution_count": 23,
   "metadata": {},
   "outputs": [],
   "source": [
    "id2name = prod[prod.name.isin(item_names)][['id','name']].drop_duplicates()\n",
    "pd.to_pickle(id2name, 'data/id2name.pkl')"
   ]
  },
  {
   "cell_type": "code",
   "execution_count": 22,
   "metadata": {},
   "outputs": [
    {
     "data": {
      "text/plain": [
       "316不鏽鋼陶晶煎烤盤(34公分)*1個                                                                   93\n",
       "西班牙米其林主廚系列4件組*1組                                                                       79\n",
       "316不鏽鋼漏勺*1支                                                                            58\n",
       "(L-胖丁+1)老北雞腿*1支                                                                        42\n",
       "316七層深型油炸鍋*1個(20公分)                                                                    41\n",
       "                                                                                       ..\n",
       "舊三郎 0501 A12-(30片)白松露奇蹟撫紋面膜(銀)*30                                                       1\n",
       "叫賣 0328 A04-(5罐)台灣一條根 痛快噴 (120ml)*5                                                     1\n",
       "888 1219 A09-日本味王桑葉有酵錠(90粒/包)(效期2022/3)*1                                               1\n",
       "公主 0625 G12-刨絲器(顏色隨機)*1                                                                 1\n",
       "公主 0315 A14-(3件組)雅詩蘭黛 Pro極速緊緻肌密全能精華100ml(效期2023/10)*1+SK-II 亮采化妝水230ml(效期2024/07)*2     1\n",
       "Name: name, Length: 247092, dtype: int64"
      ]
     },
     "execution_count": 22,
     "metadata": {},
     "output_type": "execute_result"
    }
   ],
   "source": [
    "item_names_df = pd.DataFrame(item_names, columns = ['name'])\n",
    "item_names_df.merge(id2name, how='left', on='name').name.value_counts() # 一個商品名稱有多個id"
   ]
  },
  {
   "cell_type": "code",
   "execution_count": 24,
   "metadata": {},
   "outputs": [],
   "source": [
    "item2vec = {name:vec for name, vec in zip(item_names, item_embeddings)}"
   ]
  },
  {
   "cell_type": "code",
   "execution_count": 25,
   "metadata": {},
   "outputs": [
    {
     "data": {
      "text/plain": [
       "['第 121 標(11/27)創意車載汽車儲網-約19X7cm(KMS6888)一個29元',\n",
       " '大師兄 0619 A12-卡通涼感凝膠冰墊(款式隨機)*1--刪單不通知',\n",
       " '第 045 標(10/27)2024年4月三太子一條根滾珠凝露(可選)-涼&熱-擇1-40G一罐29元',\n",
       " '888 0209 G06-(5條)JUL-怡百麗牆面修補膏(250g)+嘴+刮刀*5',\n",
       " \"公主 1010 A25-(4件)Cab's SHOWERHEAD 黑金一鍵止水萬向蓮蓬頭*1+（-濾心-） 黑金一鍵止水萬向蓮蓬頭*3\"]"
      ]
     },
     "execution_count": 25,
     "metadata": {},
     "output_type": "execute_result"
    }
   ],
   "source": [
    "list(item2vec.keys())[:5]"
   ]
  },
  {
   "cell_type": "code",
   "execution_count": 26,
   "metadata": {},
   "outputs": [
    {
     "data": {
      "text/plain": [
       "(768,)"
      ]
     },
     "execution_count": 26,
     "metadata": {},
     "output_type": "execute_result"
    }
   ],
   "source": [
    "item2vec['【商城】澳洲Eureka天然10%水溶性尤加利精油500ml'].shape"
   ]
  },
  {
   "cell_type": "code",
   "execution_count": 18,
   "metadata": {},
   "outputs": [],
   "source": [
    "with open('data/item2vec.pkl', 'wb') as f:\n",
    "    pickle.dump(item2vec, f)"
   ]
  },
  {
   "cell_type": "code",
   "execution_count": 34,
   "metadata": {},
   "outputs": [
    {
     "data": {
      "text/plain": [
       "(768,)"
      ]
     },
     "execution_count": 34,
     "metadata": {},
     "output_type": "execute_result"
    }
   ],
   "source": [
    "test['【商城】澳洲Eureka天然10%水溶性尤加利精油500ml'].shape"
   ]
  },
  {
   "cell_type": "code",
   "execution_count": null,
   "metadata": {},
   "outputs": [],
   "source": [
    "with open('data/item2vec.pkl', 'rb') as f:\n",
    "    test = pickle.load(f)\n",
    "from deepdiff import DeepDiff\n",
    "print(DeepDiff(test, item2vec))"
   ]
  }
 ],
 "metadata": {
  "kernelspec": {
   "display_name": "Python 3",
   "language": "python",
   "name": "python3"
  },
  "language_info": {
   "codemirror_mode": {
    "name": "ipython",
    "version": 3
   },
   "file_extension": ".py",
   "mimetype": "text/x-python",
   "name": "python",
   "nbconvert_exporter": "python",
   "pygments_lexer": "ipython3",
   "version": "3.6.9"
  }
 },
 "nbformat": 4,
 "nbformat_minor": 4
}
