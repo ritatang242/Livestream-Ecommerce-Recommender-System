{
 "cells": [
  {
   "cell_type": "code",
   "execution_count": 17,
   "metadata": {},
   "outputs": [],
   "source": [
    "import numpy as np\n",
    "import pandas as pd\n",
    "import pickle\n",
    "import torch\n",
    "import torch.nn as nn\n",
    "from torch.nn.utils.rnn import pad_sequence\n",
    "from transformers import (\n",
    "  BertTokenizerFast,\n",
    "  AutoModel,\n",
    ")\n",
    "from customized.preprocess import BertTokenDataset"
   ]
  },
  {
   "cell_type": "code",
   "execution_count": 2,
   "metadata": {},
   "outputs": [],
   "source": [
    "prod = pd.read_pickle('data/prod.pkl')\n",
    "item_names = list(set(prod.name))\n",
    "item_max_len = max([len(i) for i in item_names])"
   ]
  },
  {
   "cell_type": "markdown",
   "metadata": {},
   "source": [
    "### pre-trained BERT"
   ]
  },
  {
   "cell_type": "code",
   "execution_count": 3,
   "metadata": {},
   "outputs": [
    {
     "name": "stderr",
     "output_type": "stream",
     "text": [
      "Some weights of the model checkpoint at ckiplab/bert-base-chinese were not used when initializing BertModel: ['cls.predictions.transform.LayerNorm.bias', 'cls.predictions.decoder.weight', 'cls.predictions.transform.dense.bias', 'cls.predictions.decoder.bias', 'cls.predictions.transform.dense.weight', 'cls.predictions.bias', 'cls.predictions.transform.LayerNorm.weight']\n",
      "- This IS expected if you are initializing BertModel from the checkpoint of a model trained on another task or with another architecture (e.g. initializing a BertForSequenceClassification model from a BertForPreTraining model).\n",
      "- This IS NOT expected if you are initializing BertModel from the checkpoint of a model that you expect to be exactly identical (initializing a BertForSequenceClassification model from a BertForSequenceClassification model).\n",
      "Some weights of BertModel were not initialized from the model checkpoint at ckiplab/bert-base-chinese and are newly initialized: ['bert.pooler.dense.weight', 'bert.pooler.dense.bias']\n",
      "You should probably TRAIN this model on a down-stream task to be able to use it for predictions and inference.\n",
      "/usr/local/lib/python3.6/dist-packages/transformers/tokenization_utils_base.py:2280: UserWarning: `max_length` is ignored when `padding`=`True` and there is no truncation strategy. To pad to max length, use `padding='max_length'`.\n",
      "  \"`max_length` is ignored when `padding`=`True` and there is no truncation strategy. \"\n"
     ]
    },
    {
     "name": "stdout",
     "output_type": "stream",
     "text": [
      "torch.Size([247092, 94])\n",
      "Step [500/7722]\n",
      "Step [1000/7722]\n",
      "Step [1500/7722]\n",
      "Step [2000/7722]\n",
      "Step [2500/7722]\n",
      "Step [3000/7722]\n",
      "Step [3500/7722]\n",
      "Step [4000/7722]\n",
      "Step [4500/7722]\n",
      "Step [5000/7722]\n",
      "Step [5500/7722]\n",
      "Step [6000/7722]\n",
      "Step [6500/7722]\n",
      "Step [7000/7722]\n",
      "Step [7500/7722]\n",
      "(247092, 768)\n"
     ]
    }
   ],
   "source": [
    "device = torch.device(\"cuda\" if torch.cuda.is_available() else \"cpu\")\n",
    "\n",
    "tokenizer = BertTokenizerFast.from_pretrained('bert-base-chinese')\n",
    "bert_model = AutoModel.from_pretrained('ckiplab/bert-base-chinese').to(device)\n",
    "\n",
    "tokenizer_result = tokenizer(item_names, max_length=item_max_len, padding=True, return_attention_mask=True, return_tensors='pt')\n",
    "input_ids = tokenizer_result.input_ids\n",
    "attention_mask = tokenizer_result.attention_mask\n",
    "print(input_ids.shape)\n",
    "\n",
    "token_dataset = BertTokenDataset(input_ids)\n",
    "token_dataloader = torch.utils.data.DataLoader(token_dataset, shuffle=False, batch_size=32)\n",
    "\n",
    "item_embeddings = []\n",
    "\n",
    "for i, x in enumerate(token_dataloader):\n",
    "    x = x.to(device)\n",
    "    embedding = bert_model(x).pooler_output\n",
    "    embedding = embedding.tolist()\n",
    "    item_embeddings.extend(embedding)\n",
    "    if (i+1) % 500 == 0:\n",
    "        print(\"Step [{}/{}]\" .format(i+1, len(token_dataloader)))\n",
    "\n",
    "item_embeddings = np.array(item_embeddings)\n",
    "print(item_embeddings.shape)"
   ]
  },
  {
   "cell_type": "code",
   "execution_count": 4,
   "metadata": {},
   "outputs": [],
   "source": [
    "item2vec = {name:vec for name, vec in zip(item_names, item_embeddings)}"
   ]
  },
  {
   "cell_type": "code",
   "execution_count": 15,
   "metadata": {},
   "outputs": [
    {
     "data": {
      "text/plain": [
       "['3S-3173 B5',\n",
       " '【加購0603】GAP細大logo短T(9900黑/9901灰))',\n",
       " '公主 0326 A14-BC冰冰防蚊乳 (50ml)*1',\n",
       " '大蘋 0416 A02-(2件組)帝喜牌 手打鐵鍋 (32cm)*1+dstt 微壓悶燒鍋 (3.5L)*1',\n",
       " '第 010 標 (2/9)韓國 SUNTIQUE 遮瑕BB防曬棒']"
      ]
     },
     "execution_count": 15,
     "metadata": {},
     "output_type": "execute_result"
    }
   ],
   "source": [
    "list(item2vec.keys())[:5]"
   ]
  },
  {
   "cell_type": "code",
   "execution_count": 6,
   "metadata": {},
   "outputs": [
    {
     "data": {
      "text/plain": [
       "(768,)"
      ]
     },
     "execution_count": 6,
     "metadata": {},
     "output_type": "execute_result"
    }
   ],
   "source": [
    "item2vec['【商城】澳洲Eureka天然10%水溶性尤加利精油500ml'].shape"
   ]
  },
  {
   "cell_type": "code",
   "execution_count": 18,
   "metadata": {},
   "outputs": [],
   "source": [
    "with open('data/item2vec.pkl', 'wb') as f:\n",
    "    pickle.dump(item2vec, f)"
   ]
  },
  {
   "cell_type": "code",
   "execution_count": 34,
   "metadata": {},
   "outputs": [
    {
     "data": {
      "text/plain": [
       "(768,)"
      ]
     },
     "execution_count": 34,
     "metadata": {},
     "output_type": "execute_result"
    }
   ],
   "source": [
    "test['【商城】澳洲Eureka天然10%水溶性尤加利精油500ml'].shape"
   ]
  },
  {
   "cell_type": "code",
   "execution_count": 39,
   "metadata": {},
   "outputs": [
    {
     "ename": "FileNotFoundError",
     "evalue": "[Errno 2] No such file or directory: 'data/item2vec.pkl'",
     "output_type": "error",
     "traceback": [
      "\u001b[0;31m\u001b[0m",
      "\u001b[0;31mFileNotFoundError\u001b[0mTraceback (most recent call last)",
      "\u001b[0;32m<ipython-input-39-6eeed114115b>\u001b[0m in \u001b[0;36m<module>\u001b[0;34m\u001b[0m\n\u001b[0;32m----> 1\u001b[0;31m \u001b[0;32mwith\u001b[0m \u001b[0mopen\u001b[0m\u001b[0;34m(\u001b[0m\u001b[0;34m'data/item2vec.pkl'\u001b[0m\u001b[0;34m,\u001b[0m \u001b[0;34m'rb'\u001b[0m\u001b[0;34m)\u001b[0m \u001b[0;32mas\u001b[0m \u001b[0mf\u001b[0m\u001b[0;34m:\u001b[0m\u001b[0;34m\u001b[0m\u001b[0;34m\u001b[0m\u001b[0m\n\u001b[0m\u001b[1;32m      2\u001b[0m     \u001b[0mtest\u001b[0m \u001b[0;34m=\u001b[0m \u001b[0mpickle\u001b[0m\u001b[0;34m.\u001b[0m\u001b[0mload\u001b[0m\u001b[0;34m(\u001b[0m\u001b[0mf\u001b[0m\u001b[0;34m)\u001b[0m\u001b[0;34m\u001b[0m\u001b[0;34m\u001b[0m\u001b[0m\n\u001b[1;32m      3\u001b[0m \u001b[0;32mfrom\u001b[0m \u001b[0mdeepdiff\u001b[0m \u001b[0;32mimport\u001b[0m \u001b[0mDeepDiff\u001b[0m\u001b[0;34m\u001b[0m\u001b[0;34m\u001b[0m\u001b[0m\n\u001b[1;32m      4\u001b[0m \u001b[0mprint\u001b[0m\u001b[0;34m(\u001b[0m\u001b[0mDeepDiff\u001b[0m\u001b[0;34m(\u001b[0m\u001b[0mtest\u001b[0m\u001b[0;34m,\u001b[0m \u001b[0mitem2vec\u001b[0m\u001b[0;34m)\u001b[0m\u001b[0;34m)\u001b[0m\u001b[0;34m\u001b[0m\u001b[0;34m\u001b[0m\u001b[0m\n",
      "\u001b[0;31mFileNotFoundError\u001b[0m: [Errno 2] No such file or directory: 'data/item2vec.pkl'"
     ]
    }
   ],
   "source": [
    "with open('data/item2vec.pkl', 'rb') as f:\n",
    "    test = pickle.load(f)\n",
    "from deepdiff import DeepDiff\n",
    "print(DeepDiff(test, item2vec))"
   ]
  },
  {
   "cell_type": "code",
   "execution_count": null,
   "metadata": {},
   "outputs": [],
   "source": []
  }
 ],
 "metadata": {
  "kernelspec": {
   "display_name": "Python 3",
   "language": "python",
   "name": "python3"
  },
  "language_info": {
   "codemirror_mode": {
    "name": "ipython",
    "version": 3
   },
   "file_extension": ".py",
   "mimetype": "text/x-python",
   "name": "python",
   "nbconvert_exporter": "python",
   "pygments_lexer": "ipython3",
   "version": "3.6.9"
  }
 },
 "nbformat": 4,
 "nbformat_minor": 4
}
