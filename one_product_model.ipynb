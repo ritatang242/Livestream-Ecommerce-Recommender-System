{
 "cells": [
  {
   "cell_type": "code",
   "execution_count": 1,
   "metadata": {},
   "outputs": [],
   "source": [
    "import numpy as np\n",
    "import pandas as pd\n",
    "from customized import preprocess\n",
    "from customized import metrics\n",
    "from customized.model import rnns\n",
    "from customized.model import temporal_context_models"
   ]
  },
  {
   "cell_type": "markdown",
   "metadata": {},
   "source": [
    "# Product Model (ONE product in a basket)"
   ]
  },
  {
   "cell_type": "code",
   "execution_count": 2,
   "metadata": {},
   "outputs": [],
   "source": [
    "prod = pd.read_pickle('data/prod.pkl')\n",
    "txn = pd.read_pickle('data/txn.pkl')\n",
    "end_date = '2021-11-01'\n",
    "sub_txn = txn[txn.user_id.isin(['10891','12235','6112','6835','6897','4460','4793'])]\n",
    "sub_txn.user_id.value_counts()\n",
    "streamer_static_fname='streamer_static_features_7.csv'\n",
    "rfm, static_df = preprocess.generate_static_user_context(sub_txn, end_date)"
   ]
  },
  {
   "cell_type": "code",
   "execution_count": 17,
   "metadata": {},
   "outputs": [
    {
     "name": "stdout",
     "output_type": "stream",
     "text": [
      "Sequence length:  5 Batch size:  32\n",
      "付款單號不等於t筆: 0\n",
      "(736, 3840) (736, 768)\n",
      "(493, 3840) (243, 3840) (493, 768) (243, 768)\n",
      "Start training...\n",
      "Epoch [1/11], Step [16/16], Loss: 0.0221\n",
      "Epoch [2/11], Step [16/16], Loss: 0.0175\n",
      "Epoch [3/11], Step [16/16], Loss: 0.0179\n",
      "Epoch [4/11], Step [16/16], Loss: 0.0184\n",
      "Epoch [5/11], Step [16/16], Loss: 0.0131\n",
      "Epoch [6/11], Step [16/16], Loss: 0.0158\n",
      "Epoch [7/11], Step [16/16], Loss: 0.0153\n",
      "Epoch [8/11], Step [16/16], Loss: 0.0182\n",
      "Epoch [9/11], Step [16/16], Loss: 0.0133\n",
      "Epoch [10/11], Step [16/16], Loss: 0.0174\n",
      "Epoch [11/11], Step [16/16], Loss: 0.0136\n",
      "Step [8/8], Loss: 0.0140\n",
      "Sequence length:  10 Batch size:  32\n",
      "付款單號不等於t筆: 0\n",
      "(67, 7680) (67, 768)\n",
      "(44, 7680) (23, 7680) (44, 768) (23, 768)\n",
      "Start training...\n",
      "Epoch [1/11], Step [2/2], Loss: 0.1055\n",
      "Epoch [2/11], Step [2/2], Loss: 0.0660\n",
      "Epoch [3/11], Step [2/2], Loss: 0.0355\n",
      "Epoch [4/11], Step [2/2], Loss: 0.0254\n",
      "Epoch [5/11], Step [2/2], Loss: 0.0240\n",
      "Epoch [6/11], Step [2/2], Loss: 0.0233\n",
      "Epoch [7/11], Step [2/2], Loss: 0.0189\n",
      "Epoch [8/11], Step [2/2], Loss: 0.0197\n",
      "Epoch [9/11], Step [2/2], Loss: 0.0166\n",
      "Epoch [10/11], Step [2/2], Loss: 0.0162\n",
      "Epoch [11/11], Step [2/2], Loss: 0.0168\n",
      "Step [1/1], Loss: 0.0202\n",
      "Sequence length:  15 Batch size:  32\n",
      "付款單號不等於t筆: 0\n",
      "(13, 11520) (13, 768)\n",
      "(8, 11520) (5, 11520) (8, 768) (5, 768)\n",
      "Start training...\n",
      "Epoch [1/11], Step [1/1], Loss: 0.1543\n",
      "Epoch [2/11], Step [1/1], Loss: 0.1060\n",
      "Epoch [3/11], Step [1/1], Loss: 0.0774\n",
      "Epoch [4/11], Step [1/1], Loss: 0.0572\n",
      "Epoch [5/11], Step [1/1], Loss: 0.0412\n",
      "Epoch [6/11], Step [1/1], Loss: 0.0304\n",
      "Epoch [7/11], Step [1/1], Loss: 0.0241\n",
      "Epoch [8/11], Step [1/1], Loss: 0.0206\n",
      "Epoch [9/11], Step [1/1], Loss: 0.0191\n",
      "Epoch [10/11], Step [1/1], Loss: 0.0186\n",
      "Epoch [11/11], Step [1/1], Loss: 0.0183\n",
      "Step [1/1], Loss: 0.0304\n"
     ]
    }
   ],
   "source": [
    "cp_one_model = temporal_context_models.CustomerOneProduct(sub_txn, end_date, static_df)\n",
    "cp_one_loss_record, cp_one_epoch_loss = cp_one_model.train() # 736人, 67人, 13人"
   ]
  },
  {
   "cell_type": "code",
   "execution_count": 18,
   "metadata": {},
   "outputs": [
    {
     "name": "stdout",
     "output_type": "stream",
     "text": [
      "5 Sequences Training Loss : 0.0136\n",
      "10 Sequences Training Loss : 0.0168\n",
      "15 Sequences Training Loss : 0.0183\n"
     ]
    },
    {
     "data": {
      "image/png": "[encoded data removed]",
      "text/plain": [
       "<Figure size 432x288 with 1 Axes>"
      ]
     },
     "metadata": {
      "needs_background": "light"
     },
     "output_type": "display_data"
    }
   ],
   "source": [
    "metrics.plot_loss_wo_val(cp_one_epoch_loss, x_max=11, model_name='tr_cp_one')"
   ]
  },
  {
   "cell_type": "code",
   "execution_count": 19,
   "metadata": {},
   "outputs": [
    {
     "name": "stdout",
     "output_type": "stream",
     "text": [
      "付款單號不等於t筆: 0\n",
      "(67, 7680) (67, 768)\n",
      "matching of # of customers incorrects:  0\n",
      "Final loss: 0.017124444246292114\n"
     ]
    }
   ],
   "source": [
    "sequence_length = 10\n",
    "basket_trues, basket_preds, basket_hn, cust_basket_preds, cust_id3, single_prod_n = cp_one_model.test(sequence_length, batch_size=32)"
   ]
  },
  {
   "cell_type": "code",
   "execution_count": null,
   "metadata": {},
   "outputs": [],
   "source": []
  }
 ],
 "metadata": {
  "kernelspec": {
   "display_name": "Python 3",
   "language": "python",
   "name": "python3"
  },
  "language_info": {
   "codemirror_mode": {
    "name": "ipython",
    "version": 3
   },
   "file_extension": ".py",
   "mimetype": "text/x-python",
   "name": "python",
   "nbconvert_exporter": "python",
   "pygments_lexer": "ipython3",
   "version": "3.6.9"
  }
 },
 "nbformat": 4,
 "nbformat_minor": 4
}
