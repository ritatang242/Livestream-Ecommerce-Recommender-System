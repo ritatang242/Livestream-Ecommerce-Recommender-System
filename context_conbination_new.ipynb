{
 "cells": [
  {
   "cell_type": "code",
   "execution_count": 83,
   "metadata": {},
   "outputs": [
    {
     "data": {
      "text/plain": [
       "<module 'customized.model.vae' from '/home/Oring-AI/jambo/Livestream-Ecommerce-Recommender-System/customized/model/vae.py'>"
      ]
     },
     "execution_count": 83,
     "metadata": {},
     "output_type": "execute_result"
    }
   ],
   "source": [
    "import numpy as np\n",
    "import pandas as pd\n",
    "import seaborn as sns\n",
    "import matplotlib.pyplot as plt\n",
    "import glob\n",
    "from functools import reduce\n",
    "from customized import preprocess\n",
    "from customized import metrics\n",
    "from customized import dimension_reducer\n",
    "from customized.model import vae\n",
    "from customized.model import autoencoder\n",
    "from customized.model import temporal_context_models\n",
    "import plotly.io as pio\n",
    "pio.renderers.default = 'iframe'\n",
    "importlib.reload(vae)"
   ]
  },
  {
   "cell_type": "code",
   "execution_count": 54,
   "metadata": {},
   "outputs": [],
   "source": [
    "prod = pd.read_pickle('data/prod.pkl')\n",
    "txn = pd.read_pickle('data/txn.pkl')\n",
    "cmt = pd.read_pickle('data/cmt.pkl')\n",
    "\n",
    "end_date = '2021-11-01'\n",
    "sub_txn = txn[txn.user_id.isin(['10891','12235','6112','6835','6897','4460','4793'])]\n",
    "sub_txn.user_id.value_counts()\n",
    "streamer_static_fname='streamer_static_features_7.csv'\n",
    "\n",
    "rfm, static_df = preprocess.generate_static_user_context(sub_txn, end_date)\n",
    "streamer = preprocess.generate_streamer_features(streamer_static_fname, sub_txn, prod, cmt, rfm, end_date) # 製作streamer features\n",
    "scale_streamer = preprocess.standardize(streamer)     # 標準化"
   ]
  },
  {
   "cell_type": "markdown",
   "metadata": {},
   "source": [
    "# Temporal Context Model"
   ]
  },
  {
   "cell_type": "code",
   "execution_count": 55,
   "metadata": {},
   "outputs": [
    {
     "name": "stdout",
     "output_type": "stream",
     "text": [
      "付款單號不等於t筆: 0\n",
      "(37442, 115)\n",
      "Finall Accuracy: 95.5798 %\n",
      "matching of # of customers incorrects:  0\n",
      "付款單號不等於t筆: 0\n",
      "(19906, 7680) (19906, 768)\n",
      "<torch.utils.data.dataloader.DataLoader object at 0x7f2cc1358080>\n",
      "623\n",
      "Step [100/623], Loss: 0.0082\n",
      "Step [200/623], Loss: 0.0065\n",
      "Step [300/623], Loss: 0.0085\n",
      "Step [400/623], Loss: 0.0080\n",
      "Step [500/623], Loss: 0.0087\n",
      "Step [600/623], Loss: 0.0079\n",
      "matching of # of customers incorrects:  0\n"
     ]
    }
   ],
   "source": [
    "cs_model = temporal_context_models.CustomerStreamer(sub_txn, end_date, streamer, scale_streamer, static_df)\n",
    "streamer_trues, streamer_preds, streamer_hn, cust_streamer_preds, cust_id, txn_n = cs_model.test(sequence_length=5, batch_size=32)\n",
    "cp_model = temporal_context_models.CustomerProduct(sub_txn, end_date, static_df)\n",
    "basket_trues, basket_preds, basket_hn, cust_basket_preds, cust_id2, prod_n = cp_model.test(sequence_length=10, batch_size=32)"
   ]
  },
  {
   "cell_type": "markdown",
   "metadata": {},
   "source": [
    "# Full Context"
   ]
  },
  {
   "cell_type": "markdown",
   "metadata": {},
   "source": [
    "### LERS"
   ]
  },
  {
   "cell_type": "code",
   "execution_count": 63,
   "metadata": {},
   "outputs": [
    {
     "data": {
      "text/plain": [
       "(143327, 55)"
      ]
     },
     "execution_count": 63,
     "metadata": {},
     "output_type": "execute_result"
    }
   ],
   "source": [
    "# streamer_hn_df = pd.DataFrame(streamer_hn, index=cust_id, columns=['sdim_'+str(i+1) for i in range(streamer_hn.shape[1])]).reset_index().rename(columns={\"index\":\"asid\"})\n",
    "# product_hn_df = pd.DataFrame(basket_hn, index=cust_id2, columns=['pdim_'+str(i+1) for i in range(basket_hn.shape[1])]).reset_index().rename(columns={\"index\":\"asid\"})\n",
    "# static\n",
    "scale_rfml_df = preprocess.standardize(static_df.iloc[:,:5].set_index('asid').astype(np.float32))\n",
    "static_dummy_tanh_df = static_df.set_index('asid').iloc[:,6:19].mask(static_df.set_index('asid').iloc[:,4:] == 0, -1)\n",
    "static_address = static_df.set_index('asid').iloc[:,6:].to_numpy()\n",
    "static_address.shape"
   ]
  },
  {
   "cell_type": "code",
   "execution_count": 40,
   "metadata": {},
   "outputs": [
    {
     "name": "stdout",
     "output_type": "stream",
     "text": [
      "(19906, 408)\n"
     ]
    }
   ],
   "source": [
    "# dfs = [product_hn_df, streamer_hn_df, scale_rfml_df] # rfm\n",
    "# dfs = [product_hn_df, streamer_hn_df, scale_rfml_df, static_dummy_tanh_df] # rfm + purchase method\n",
    "# dfs = [product_hn_df, streamer_hn_df, scale_rfml_df, static_address] # rfm + purchase method + address\n",
    "# dfs = [scale_rfml_df, static_address] # static\n",
    "# dfs = [product_hn_df, streamer_hn_df] # temporal\n",
    "# full_context = preprocess.combine_context(dfs, cust_id2)\n",
    "# np.save('data/full_context.npy', full_context)"
   ]
  },
  {
   "cell_type": "markdown",
   "metadata": {},
   "source": [
    "#### VAE模糊化之前, 先用pca看看效果、選擇要降多少維度"
   ]
  },
  {
   "cell_type": "code",
   "execution_count": 66,
   "metadata": {},
   "outputs": [
    {
     "name": "stdout",
     "output_type": "stream",
     "text": [
      "Explainess: [0.22909832 0.13536825 0.08377493 0.06437106 0.05017227 0.04758378\n",
      " 0.04448649 0.04259471 0.03994486 0.03092169 0.02926478 0.02526031\n",
      " 0.02324455 0.01993683 0.017611   0.01375348 0.01333599 0.01215072\n",
      " 0.01150722 0.00959112 0.0082919  0.00815422 0.00745158 0.00729814\n",
      " 0.00644896 0.00517256 0.00473706 0.00267092 0.00195927 0.00118188]\n",
      "Total explain: 0.9973388410250906\n",
      "Explainess: [6.10746145e-01 1.92110553e-01 5.50991185e-02 4.77113388e-02\n",
      " 2.80929562e-02 2.32154112e-02 1.28170550e-02 9.90252476e-03\n",
      " 4.27833386e-03 2.71555618e-03 2.15033232e-03 1.67564116e-03\n",
      " 1.32861070e-03 1.29393220e-03 7.27524632e-04 6.84321392e-04\n",
      " 6.52528834e-04 5.68608462e-04 4.56857582e-04 3.64573178e-04\n",
      " 3.35672259e-04 3.04722518e-04 2.36520660e-04 2.16500383e-04\n",
      " 1.99679445e-04 1.71418040e-04 1.54372814e-04 1.23389153e-04\n",
      " 1.17565265e-04 9.93382346e-05 9.82385754e-05 7.94150546e-05]\n",
      "Total explain: 0.9987287560434197\n"
     ]
    },
    {
     "data": {
      "text/html": [
       "<div>\n",
       "<style scoped>\n",
       "    .dataframe tbody tr th:only-of-type {\n",
       "        vertical-align: middle;\n",
       "    }\n",
       "\n",
       "    .dataframe tbody tr th {\n",
       "        vertical-align: top;\n",
       "    }\n",
       "\n",
       "    .dataframe thead th {\n",
       "        text-align: right;\n",
       "    }\n",
       "</style>\n",
       "<table border=\"1\" class=\"dataframe\">\n",
       "  <thead>\n",
       "    <tr style=\"text-align: right;\">\n",
       "      <th></th>\n",
       "      <th>Dim1</th>\n",
       "      <th>Dim2</th>\n",
       "      <th>Dim3</th>\n",
       "      <th>Dim4</th>\n",
       "      <th>Dim5</th>\n",
       "      <th>Dim6</th>\n",
       "      <th>Dim7</th>\n",
       "      <th>Dim8</th>\n",
       "      <th>Dim9</th>\n",
       "      <th>Dim10</th>\n",
       "      <th>...</th>\n",
       "      <th>Dim23</th>\n",
       "      <th>Dim24</th>\n",
       "      <th>Dim25</th>\n",
       "      <th>Dim26</th>\n",
       "      <th>Dim27</th>\n",
       "      <th>Dim28</th>\n",
       "      <th>Dim29</th>\n",
       "      <th>Dim30</th>\n",
       "      <th>Dim31</th>\n",
       "      <th>Dim32</th>\n",
       "    </tr>\n",
       "  </thead>\n",
       "  <tbody>\n",
       "    <tr>\n",
       "      <th>125129722259153</th>\n",
       "      <td>0.953689</td>\n",
       "      <td>0.408124</td>\n",
       "      <td>-0.129276</td>\n",
       "      <td>-0.002182</td>\n",
       "      <td>0.234946</td>\n",
       "      <td>-0.118067</td>\n",
       "      <td>-0.088108</td>\n",
       "      <td>0.035394</td>\n",
       "      <td>-0.044813</td>\n",
       "      <td>0.074998</td>\n",
       "      <td>...</td>\n",
       "      <td>-0.010148</td>\n",
       "      <td>0.014358</td>\n",
       "      <td>-0.009130</td>\n",
       "      <td>-0.036990</td>\n",
       "      <td>-0.006538</td>\n",
       "      <td>0.000930</td>\n",
       "      <td>-0.007034</td>\n",
       "      <td>-0.001732</td>\n",
       "      <td>-0.001497</td>\n",
       "      <td>-9.622962e-07</td>\n",
       "    </tr>\n",
       "    <tr>\n",
       "      <th>2575412702478335</th>\n",
       "      <td>0.911385</td>\n",
       "      <td>0.518665</td>\n",
       "      <td>0.011071</td>\n",
       "      <td>-0.026432</td>\n",
       "      <td>-0.246294</td>\n",
       "      <td>0.167438</td>\n",
       "      <td>0.060353</td>\n",
       "      <td>-0.014252</td>\n",
       "      <td>0.030706</td>\n",
       "      <td>-0.020583</td>\n",
       "      <td>...</td>\n",
       "      <td>-0.000900</td>\n",
       "      <td>0.001881</td>\n",
       "      <td>0.004004</td>\n",
       "      <td>-0.002322</td>\n",
       "      <td>0.000977</td>\n",
       "      <td>-0.000962</td>\n",
       "      <td>0.009579</td>\n",
       "      <td>-0.001813</td>\n",
       "      <td>-0.005223</td>\n",
       "      <td>4.857252e-03</td>\n",
       "    </tr>\n",
       "    <tr>\n",
       "      <th>2746992212059034</th>\n",
       "      <td>0.465553</td>\n",
       "      <td>-0.755920</td>\n",
       "      <td>-0.022828</td>\n",
       "      <td>0.045307</td>\n",
       "      <td>0.011415</td>\n",
       "      <td>0.029966</td>\n",
       "      <td>0.046019</td>\n",
       "      <td>-0.034181</td>\n",
       "      <td>0.041227</td>\n",
       "      <td>-0.007790</td>\n",
       "      <td>...</td>\n",
       "      <td>-0.002269</td>\n",
       "      <td>0.008103</td>\n",
       "      <td>0.003253</td>\n",
       "      <td>0.000712</td>\n",
       "      <td>0.011596</td>\n",
       "      <td>0.006285</td>\n",
       "      <td>-0.005963</td>\n",
       "      <td>-0.011646</td>\n",
       "      <td>-0.000970</td>\n",
       "      <td>3.089650e-04</td>\n",
       "    </tr>\n",
       "    <tr>\n",
       "      <th>10212756098496013</th>\n",
       "      <td>0.961781</td>\n",
       "      <td>0.471751</td>\n",
       "      <td>-0.073009</td>\n",
       "      <td>0.027085</td>\n",
       "      <td>0.055066</td>\n",
       "      <td>-0.059223</td>\n",
       "      <td>0.036767</td>\n",
       "      <td>-0.013443</td>\n",
       "      <td>0.029883</td>\n",
       "      <td>-0.023816</td>\n",
       "      <td>...</td>\n",
       "      <td>-0.001579</td>\n",
       "      <td>-0.004646</td>\n",
       "      <td>0.000558</td>\n",
       "      <td>0.006719</td>\n",
       "      <td>0.008260</td>\n",
       "      <td>-0.000044</td>\n",
       "      <td>0.012631</td>\n",
       "      <td>-0.001896</td>\n",
       "      <td>0.002299</td>\n",
       "      <td>1.730379e-03</td>\n",
       "    </tr>\n",
       "    <tr>\n",
       "      <th>3099195943438669</th>\n",
       "      <td>0.094603</td>\n",
       "      <td>0.346868</td>\n",
       "      <td>-0.064475</td>\n",
       "      <td>0.157722</td>\n",
       "      <td>-0.150822</td>\n",
       "      <td>0.047255</td>\n",
       "      <td>0.354710</td>\n",
       "      <td>0.433873</td>\n",
       "      <td>-0.037112</td>\n",
       "      <td>0.004780</td>\n",
       "      <td>...</td>\n",
       "      <td>0.028340</td>\n",
       "      <td>-0.024447</td>\n",
       "      <td>0.002510</td>\n",
       "      <td>-0.002202</td>\n",
       "      <td>-0.002325</td>\n",
       "      <td>-0.016023</td>\n",
       "      <td>0.027759</td>\n",
       "      <td>-0.024989</td>\n",
       "      <td>0.002807</td>\n",
       "      <td>1.147297e-02</td>\n",
       "    </tr>\n",
       "    <tr>\n",
       "      <th>...</th>\n",
       "      <td>...</td>\n",
       "      <td>...</td>\n",
       "      <td>...</td>\n",
       "      <td>...</td>\n",
       "      <td>...</td>\n",
       "      <td>...</td>\n",
       "      <td>...</td>\n",
       "      <td>...</td>\n",
       "      <td>...</td>\n",
       "      <td>...</td>\n",
       "      <td>...</td>\n",
       "      <td>...</td>\n",
       "      <td>...</td>\n",
       "      <td>...</td>\n",
       "      <td>...</td>\n",
       "      <td>...</td>\n",
       "      <td>...</td>\n",
       "      <td>...</td>\n",
       "      <td>...</td>\n",
       "      <td>...</td>\n",
       "      <td>...</td>\n",
       "    </tr>\n",
       "    <tr>\n",
       "      <th>1614923358694734</th>\n",
       "      <td>0.931563</td>\n",
       "      <td>0.364787</td>\n",
       "      <td>-0.118504</td>\n",
       "      <td>0.075223</td>\n",
       "      <td>0.356556</td>\n",
       "      <td>-0.296009</td>\n",
       "      <td>-0.028680</td>\n",
       "      <td>-0.001272</td>\n",
       "      <td>0.000547</td>\n",
       "      <td>-0.023921</td>\n",
       "      <td>...</td>\n",
       "      <td>0.003463</td>\n",
       "      <td>-0.009663</td>\n",
       "      <td>-0.006675</td>\n",
       "      <td>0.003265</td>\n",
       "      <td>0.000301</td>\n",
       "      <td>-0.001063</td>\n",
       "      <td>0.006775</td>\n",
       "      <td>-0.004161</td>\n",
       "      <td>-0.005025</td>\n",
       "      <td>-8.853715e-03</td>\n",
       "    </tr>\n",
       "    <tr>\n",
       "      <th>1568024236727656</th>\n",
       "      <td>0.860213</td>\n",
       "      <td>0.334923</td>\n",
       "      <td>-0.145528</td>\n",
       "      <td>0.092568</td>\n",
       "      <td>0.457137</td>\n",
       "      <td>-0.380041</td>\n",
       "      <td>-0.026060</td>\n",
       "      <td>-0.007536</td>\n",
       "      <td>0.029613</td>\n",
       "      <td>-0.046465</td>\n",
       "      <td>...</td>\n",
       "      <td>0.018909</td>\n",
       "      <td>-0.001186</td>\n",
       "      <td>0.001051</td>\n",
       "      <td>0.005197</td>\n",
       "      <td>-0.013090</td>\n",
       "      <td>0.003155</td>\n",
       "      <td>-0.001487</td>\n",
       "      <td>0.000587</td>\n",
       "      <td>0.000139</td>\n",
       "      <td>-5.573975e-03</td>\n",
       "    </tr>\n",
       "    <tr>\n",
       "      <th>3745068162189732</th>\n",
       "      <td>0.922823</td>\n",
       "      <td>0.359797</td>\n",
       "      <td>-0.127003</td>\n",
       "      <td>0.067114</td>\n",
       "      <td>0.369588</td>\n",
       "      <td>-0.291696</td>\n",
       "      <td>-0.041872</td>\n",
       "      <td>0.002188</td>\n",
       "      <td>-0.014002</td>\n",
       "      <td>-0.009047</td>\n",
       "      <td>...</td>\n",
       "      <td>0.006844</td>\n",
       "      <td>-0.009863</td>\n",
       "      <td>-0.000590</td>\n",
       "      <td>0.004866</td>\n",
       "      <td>-0.011721</td>\n",
       "      <td>-0.000596</td>\n",
       "      <td>-0.001324</td>\n",
       "      <td>-0.001493</td>\n",
       "      <td>0.002348</td>\n",
       "      <td>-1.868315e-03</td>\n",
       "    </tr>\n",
       "    <tr>\n",
       "      <th>2919564371392996</th>\n",
       "      <td>-0.817423</td>\n",
       "      <td>0.006096</td>\n",
       "      <td>-0.125948</td>\n",
       "      <td>-0.061267</td>\n",
       "      <td>0.032567</td>\n",
       "      <td>-0.033010</td>\n",
       "      <td>0.193207</td>\n",
       "      <td>-0.007060</td>\n",
       "      <td>0.326964</td>\n",
       "      <td>0.083698</td>\n",
       "      <td>...</td>\n",
       "      <td>0.009005</td>\n",
       "      <td>0.067910</td>\n",
       "      <td>0.017646</td>\n",
       "      <td>-0.073990</td>\n",
       "      <td>0.024326</td>\n",
       "      <td>0.080718</td>\n",
       "      <td>0.023373</td>\n",
       "      <td>0.029957</td>\n",
       "      <td>-0.050624</td>\n",
       "      <td>3.789135e-02</td>\n",
       "    </tr>\n",
       "    <tr>\n",
       "      <th>1602736723261053</th>\n",
       "      <td>-0.836066</td>\n",
       "      <td>0.069434</td>\n",
       "      <td>-0.098134</td>\n",
       "      <td>0.032311</td>\n",
       "      <td>-0.022306</td>\n",
       "      <td>-0.028512</td>\n",
       "      <td>0.064349</td>\n",
       "      <td>-0.036877</td>\n",
       "      <td>0.142884</td>\n",
       "      <td>-0.043947</td>\n",
       "      <td>...</td>\n",
       "      <td>-0.002149</td>\n",
       "      <td>0.010763</td>\n",
       "      <td>-0.018733</td>\n",
       "      <td>0.013289</td>\n",
       "      <td>-0.004985</td>\n",
       "      <td>-0.017709</td>\n",
       "      <td>0.012998</td>\n",
       "      <td>-0.020576</td>\n",
       "      <td>0.009580</td>\n",
       "      <td>5.416288e-04</td>\n",
       "    </tr>\n",
       "  </tbody>\n",
       "</table>\n",
       "<p>19906 rows × 32 columns</p>\n",
       "</div>"
      ],
      "text/plain": [
       "                       Dim1      Dim2      Dim3      Dim4      Dim5      Dim6  \\\n",
       "125129722259153    0.953689  0.408124 -0.129276 -0.002182  0.234946 -0.118067   \n",
       "2575412702478335   0.911385  0.518665  0.011071 -0.026432 -0.246294  0.167438   \n",
       "2746992212059034   0.465553 -0.755920 -0.022828  0.045307  0.011415  0.029966   \n",
       "10212756098496013  0.961781  0.471751 -0.073009  0.027085  0.055066 -0.059223   \n",
       "3099195943438669   0.094603  0.346868 -0.064475  0.157722 -0.150822  0.047255   \n",
       "...                     ...       ...       ...       ...       ...       ...   \n",
       "1614923358694734   0.931563  0.364787 -0.118504  0.075223  0.356556 -0.296009   \n",
       "1568024236727656   0.860213  0.334923 -0.145528  0.092568  0.457137 -0.380041   \n",
       "3745068162189732   0.922823  0.359797 -0.127003  0.067114  0.369588 -0.291696   \n",
       "2919564371392996  -0.817423  0.006096 -0.125948 -0.061267  0.032567 -0.033010   \n",
       "1602736723261053  -0.836066  0.069434 -0.098134  0.032311 -0.022306 -0.028512   \n",
       "\n",
       "                       Dim7      Dim8      Dim9     Dim10  ...     Dim23  \\\n",
       "125129722259153   -0.088108  0.035394 -0.044813  0.074998  ... -0.010148   \n",
       "2575412702478335   0.060353 -0.014252  0.030706 -0.020583  ... -0.000900   \n",
       "2746992212059034   0.046019 -0.034181  0.041227 -0.007790  ... -0.002269   \n",
       "10212756098496013  0.036767 -0.013443  0.029883 -0.023816  ... -0.001579   \n",
       "3099195943438669   0.354710  0.433873 -0.037112  0.004780  ...  0.028340   \n",
       "...                     ...       ...       ...       ...  ...       ...   \n",
       "1614923358694734  -0.028680 -0.001272  0.000547 -0.023921  ...  0.003463   \n",
       "1568024236727656  -0.026060 -0.007536  0.029613 -0.046465  ...  0.018909   \n",
       "3745068162189732  -0.041872  0.002188 -0.014002 -0.009047  ...  0.006844   \n",
       "2919564371392996   0.193207 -0.007060  0.326964  0.083698  ...  0.009005   \n",
       "1602736723261053   0.064349 -0.036877  0.142884 -0.043947  ... -0.002149   \n",
       "\n",
       "                      Dim24     Dim25     Dim26     Dim27     Dim28     Dim29  \\\n",
       "125129722259153    0.014358 -0.009130 -0.036990 -0.006538  0.000930 -0.007034   \n",
       "2575412702478335   0.001881  0.004004 -0.002322  0.000977 -0.000962  0.009579   \n",
       "2746992212059034   0.008103  0.003253  0.000712  0.011596  0.006285 -0.005963   \n",
       "10212756098496013 -0.004646  0.000558  0.006719  0.008260 -0.000044  0.012631   \n",
       "3099195943438669  -0.024447  0.002510 -0.002202 -0.002325 -0.016023  0.027759   \n",
       "...                     ...       ...       ...       ...       ...       ...   \n",
       "1614923358694734  -0.009663 -0.006675  0.003265  0.000301 -0.001063  0.006775   \n",
       "1568024236727656  -0.001186  0.001051  0.005197 -0.013090  0.003155 -0.001487   \n",
       "3745068162189732  -0.009863 -0.000590  0.004866 -0.011721 -0.000596 -0.001324   \n",
       "2919564371392996   0.067910  0.017646 -0.073990  0.024326  0.080718  0.023373   \n",
       "1602736723261053   0.010763 -0.018733  0.013289 -0.004985 -0.017709  0.012998   \n",
       "\n",
       "                      Dim30     Dim31         Dim32  \n",
       "125129722259153   -0.001732 -0.001497 -9.622962e-07  \n",
       "2575412702478335  -0.001813 -0.005223  4.857252e-03  \n",
       "2746992212059034  -0.011646 -0.000970  3.089650e-04  \n",
       "10212756098496013 -0.001896  0.002299  1.730379e-03  \n",
       "3099195943438669  -0.024989  0.002807  1.147297e-02  \n",
       "...                     ...       ...           ...  \n",
       "1614923358694734  -0.004161 -0.005025 -8.853715e-03  \n",
       "1568024236727656   0.000587  0.000139 -5.573975e-03  \n",
       "3745068162189732  -0.001493  0.002348 -1.868315e-03  \n",
       "2919564371392996   0.029957 -0.050624  3.789135e-02  \n",
       "1602736723261053  -0.020576  0.009580  5.416288e-04  \n",
       "\n",
       "[19906 rows x 32 columns]"
      ]
     },
     "execution_count": 66,
     "metadata": {},
     "output_type": "execute_result"
    }
   ],
   "source": [
    "# streamer不降(因為已經夠低了)但是要做模糊化\n",
    "dimension_reducer.pca_df(static_address, static_df.asid, 30) \n",
    "dimension_reducer.pca_df(basket_hn, cust_id2, 32)"
   ]
  },
  {
   "cell_type": "markdown",
   "metadata": {},
   "source": [
    "# VAE"
   ]
  },
  {
   "cell_type": "markdown",
   "metadata": {},
   "source": [
    "### blurry basket hn"
   ]
  },
  {
   "cell_type": "code",
   "execution_count": 72,
   "metadata": {},
   "outputs": [
    {
     "name": "stdout",
     "output_type": "stream",
     "text": [
      "z-dim: 32 Batch size:  64\n",
      "Epoch[5/30], Step [209/209], Total Loss: 0.0048, Reconst Loss: 0.0046, KL Div: 0.0002\n",
      "Epoch[10/30], Step [209/209], Total Loss: 0.0046, Reconst Loss: 0.0045, KL Div: 0.0001\n",
      "Epoch[15/30], Step [209/209], Total Loss: 0.0046, Reconst Loss: 0.0046, KL Div: 0.0001\n",
      "Epoch[20/30], Step [209/209], Total Loss: 0.0045, Reconst Loss: 0.0045, KL Div: 0.0000\n",
      "Epoch[25/30], Step [209/209], Total Loss: 0.0045, Reconst Loss: 0.0045, KL Div: 0.0000\n",
      "Epoch[30/30], Step [209/209], Total Loss: 0.0045, Reconst Loss: 0.0045, KL Div: 0.0000\n",
      "[Testing] Step [103/103], Total Loss: 0.0034, Reconst Loss: 0.0033, KL Div: 0.0001\n",
      "z-dim: 64 Batch size:  64\n",
      "Epoch[5/30], Step [209/209], Total Loss: 0.0049, Reconst Loss: 0.0045, KL Div: 0.0004\n",
      "Epoch[10/30], Step [209/209], Total Loss: 0.0047, Reconst Loss: 0.0046, KL Div: 0.0001\n",
      "Epoch[15/30], Step [209/209], Total Loss: 0.0046, Reconst Loss: 0.0045, KL Div: 0.0001\n",
      "Epoch[20/30], Step [209/209], Total Loss: 0.0046, Reconst Loss: 0.0045, KL Div: 0.0001\n",
      "Epoch[25/30], Step [209/209], Total Loss: 0.0045, Reconst Loss: 0.0045, KL Div: 0.0001\n",
      "Epoch[30/30], Step [209/209], Total Loss: 0.0046, Reconst Loss: 0.0045, KL Div: 0.0001\n",
      "[Testing] Step [103/103], Total Loss: 0.0036, Reconst Loss: 0.0034, KL Div: 0.0002\n",
      "save results at weight: 2\n",
      "testing weight: 2\n",
      "Step [312/312], Total Loss: 0.0041, Reconst Loss: 0.0040, KL Div: 0.0000\n",
      "testing weight: 3\n",
      "Step [312/312], Total Loss: 0.0044, Reconst Loss: 0.0044, KL Div: 0.0000\n",
      "testing weight: 4\n",
      "Step [312/312], Total Loss: 0.0043, Reconst Loss: 0.0043, KL Div: 0.0000\n",
      "testing weight: 5\n",
      "Step [312/312], Total Loss: 0.0041, Reconst Loss: 0.0041, KL Div: 0.0000\n"
     ]
    }
   ],
   "source": [
    "vae_model = vae.VAE()\n",
    "loss_vae_basket = vae_model.mytrain(basket_hn, \"basket_hn\", z_dims=[32, 64])\n",
    "_, _, blurry_basket = vae_model.mytest(basket_hn, \"basket_hn\", z_dim=32, batch_size=64, weight=2)"
   ]
  },
  {
   "cell_type": "code",
   "execution_count": 73,
   "metadata": {},
   "outputs": [
    {
     "name": "stdout",
     "output_type": "stream",
     "text": [
      "Training (z=32) : 0.0045\n",
      "Validation (z=32) : 0.0034\n",
      "Training (z=64) : 0.0046\n",
      "Validation (z=64) : 0.0036\n"
     ]
    },
    {
     "data": {
      "image/png": "[encoded data removed]",
      "text/plain": [
       "<Figure size 432x288 with 1 Axes>"
      ]
     },
     "metadata": {
      "needs_background": "light"
     },
     "output_type": "display_data"
    }
   ],
   "source": [
    "metrics.plot_loss_wt_val(loss_vae_basket, 'vae_basket')"
   ]
  },
  {
   "cell_type": "markdown",
   "metadata": {},
   "source": [
    "### blurry streamer hn"
   ]
  },
  {
   "cell_type": "code",
   "execution_count": 85,
   "metadata": {},
   "outputs": [
    {
     "name": "stdout",
     "output_type": "stream",
     "text": [
      "z-dim: 23 Batch size:  64\n",
      "Epoch[5/30], Step [392/392], Total Loss: 0.3757, Reconst Loss: 0.3682, KL Div: 0.0075\n",
      "Epoch[10/30], Step [392/392], Total Loss: 0.3619, Reconst Loss: 0.3606, KL Div: 0.0013\n",
      "Epoch[15/30], Step [392/392], Total Loss: 0.3603, Reconst Loss: 0.3602, KL Div: 0.0001\n",
      "Epoch[20/30], Step [392/392], Total Loss: 0.3618, Reconst Loss: 0.3618, KL Div: 0.0000\n",
      "Epoch[25/30], Step [392/392], Total Loss: 0.3616, Reconst Loss: 0.3616, KL Div: 0.0000\n",
      "Epoch[30/30], Step [392/392], Total Loss: 0.3627, Reconst Loss: 0.3627, KL Div: -0.0000\n",
      "[Testing] Step [194/194], Total Loss: 0.2843, Reconst Loss: 0.2843, KL Div: 0.0000\n",
      "save results at weight: 2\n",
      "testing weight: 2\n",
      "Step [586/586], Total Loss: 0.5005, Reconst Loss: 0.5005, KL Div: 0.0000\n",
      "testing weight: 3\n",
      "Step [586/586], Total Loss: 0.4965, Reconst Loss: 0.4965, KL Div: 0.0000\n",
      "testing weight: 4\n",
      "Step [586/586], Total Loss: 0.5183, Reconst Loss: 0.5183, KL Div: 0.0000\n",
      "testing weight: 5\n",
      "Step [586/586], Total Loss: 0.5323, Reconst Loss: 0.5322, KL Div: 0.0000\n"
     ]
    }
   ],
   "source": [
    "loss_vae_streamer = vae_model.mytrain(streamer_hn, \"streamer_hn\", z_dims = [23])\n",
    "_, _, blurry_streamer = vae_model.mytest(streamer_hn, \"streamer_hn\", z_dim=23, batch_size=64, weight=2)"
   ]
  },
  {
   "cell_type": "code",
   "execution_count": 86,
   "metadata": {},
   "outputs": [
    {
     "name": "stdout",
     "output_type": "stream",
     "text": [
      "Training (z=23) : 0.3627\n",
      "Validation (z=23) : 0.2843\n"
     ]
    },
    {
     "data": {
      "image/png": "[encoded data removed]",
      "text/plain": [
       "<Figure size 432x288 with 1 Axes>"
      ]
     },
     "metadata": {
      "needs_background": "light"
     },
     "output_type": "display_data"
    }
   ],
   "source": [
    "metrics.plot_loss_wt_val(loss_vae_streamer, 'vae_streamer')"
   ]
  },
  {
   "cell_type": "markdown",
   "metadata": {},
   "source": [
    "### blurry static context"
   ]
  },
  {
   "cell_type": "code",
   "execution_count": 94,
   "metadata": {},
   "outputs": [
    {
     "name": "stdout",
     "output_type": "stream",
     "text": [
      "z-dim: 20 Batch size:  64\n",
      "Epoch[5/30], Step [1501/1501], Total Loss: 0.0391, Reconst Loss: 0.0390, KL Div: 0.0001\n",
      "Epoch[10/30], Step [1501/1501], Total Loss: 0.0391, Reconst Loss: 0.0391, KL Div: 0.0000\n",
      "Epoch[15/30], Step [1501/1501], Total Loss: 0.0391, Reconst Loss: 0.0391, KL Div: 0.0000\n",
      "Epoch[20/30], Step [1501/1501], Total Loss: 0.0390, Reconst Loss: 0.0390, KL Div: 0.0000\n",
      "Epoch[25/30], Step [1501/1501], Total Loss: 0.0390, Reconst Loss: 0.0390, KL Div: -0.0000\n",
      "Epoch[30/30], Step [1501/1501], Total Loss: 0.0391, Reconst Loss: 0.0391, KL Div: -0.0000\n",
      "[Testing] Step [740/740], Total Loss: 0.0352, Reconst Loss: 0.0352, KL Div: -0.0000\n",
      "z-dim: 30 Batch size:  64\n",
      "Epoch[5/30], Step [1501/1501], Total Loss: 0.0395, Reconst Loss: 0.0393, KL Div: 0.0002\n",
      "Epoch[10/30], Step [1501/1501], Total Loss: 0.0390, Reconst Loss: 0.0390, KL Div: 0.0000\n",
      "Epoch[15/30], Step [1501/1501], Total Loss: 0.0389, Reconst Loss: 0.0389, KL Div: 0.0000\n",
      "Epoch[20/30], Step [1501/1501], Total Loss: 0.0388, Reconst Loss: 0.0388, KL Div: -0.0000\n",
      "Epoch[25/30], Step [1501/1501], Total Loss: 0.0391, Reconst Loss: 0.0391, KL Div: 0.0000\n",
      "Epoch[30/30], Step [1501/1501], Total Loss: 0.0390, Reconst Loss: 0.0390, KL Div: -0.0000\n",
      "[Testing] Step [740/740], Total Loss: 0.0356, Reconst Loss: 0.0356, KL Div: 0.0000\n",
      "save results at weight: 2\n",
      "testing weight: 2\n",
      "Step [2240/2240], Total Loss: 0.0405, Reconst Loss: 0.0405, KL Div: 0.0000\n",
      "testing weight: 3\n",
      "Step [2240/2240], Total Loss: 0.0414, Reconst Loss: 0.0414, KL Div: 0.0000\n",
      "testing weight: 4\n",
      "Step [2240/2240], Total Loss: 0.0404, Reconst Loss: 0.0404, KL Div: 0.0000\n",
      "testing weight: 5\n",
      "Step [2240/2240], Total Loss: 0.0404, Reconst Loss: 0.0404, KL Div: 0.0000\n"
     ]
    }
   ],
   "source": [
    "loss_vae_static = vae_model.mytrain(static_address.astype('float32'), \"static\", z_dims = [20, 30])\n",
    "_, _, blurry_static = vae_model.mytest(static_address.astype('float32'), \"static\", z_dim=20, batch_size=64, weight=2)"
   ]
  },
  {
   "cell_type": "code",
   "execution_count": 95,
   "metadata": {},
   "outputs": [
    {
     "name": "stdout",
     "output_type": "stream",
     "text": [
      "Training (z=20) : 0.0391\n",
      "Validation (z=20) : 0.0352\n",
      "Training (z=30) : 0.039\n",
      "Validation (z=30) : 0.0356\n"
     ]
    },
    {
     "data": {
      "image/png": "[encoded data removed]",
      "text/plain": [
       "<Figure size 432x288 with 1 Axes>"
      ]
     },
     "metadata": {
      "needs_background": "light"
     },
     "output_type": "display_data"
    }
   ],
   "source": [
    "metrics.plot_loss_wt_val(loss_vae_static, 'vae_static')"
   ]
  },
  {
   "cell_type": "markdown",
   "metadata": {},
   "source": [
    "### concatenate blurry context"
   ]
  },
  {
   "cell_type": "code",
   "execution_count": 100,
   "metadata": {},
   "outputs": [
    {
     "name": "stdout",
     "output_type": "stream",
     "text": [
      "total 75\n"
     ]
    },
    {
     "data": {
      "text/plain": [
       "((19906, 32), (37442, 23), (143327, 20))"
      ]
     },
     "execution_count": 100,
     "metadata": {},
     "output_type": "execute_result"
    }
   ],
   "source": [
    "print(\"total\", blurry_basket.shape[1] + blurry_streamer.shape[1] + blurry_static.shape[1])\n",
    "blurry_basket.shape, blurry_streamer.shape, blurry_static.shape"
   ]
  },
  {
   "cell_type": "code",
   "execution_count": 114,
   "metadata": {},
   "outputs": [
    {
     "name": "stdout",
     "output_type": "stream",
     "text": [
      "(19906, 75)\n"
     ]
    }
   ],
   "source": [
    "blurry_streamer_df = pd.DataFrame(blurry_streamer, index=cust_id, columns=['sdim_'+str(i+1) for i in range(blurry_streamer.shape[1])]).reset_index().rename(columns={\"index\":\"asid\"})\n",
    "blurry_basket_df = pd.DataFrame(blurry_basket, index=cust_id2, columns=['pdim_'+str(i+1) for i in range(blurry_basket.shape[1])]).reset_index().rename(columns={\"index\":\"asid\"})\n",
    "blurry_static_df = pd.DataFrame(blurry_static, index=static_df.asid, columns=['cdim_'+str(i+1) for i in range(blurry_static.shape[1])]).reset_index().rename(columns={\"index\":\"asid\"})\n",
    "\n",
    "dfs = [blurry_basket_df, blurry_streamer_df, blurry_static_df] # three blurry features\n",
    "blurry_context = preprocess.combine_context(dfs, cust_id2)\n",
    "np.save('data/blurry_context_new.npy', blurry_context)"
   ]
  },
  {
   "cell_type": "markdown",
   "metadata": {},
   "source": [
    "# AE"
   ]
  },
  {
   "cell_type": "markdown",
   "metadata": {},
   "source": [
    "## Full context"
   ]
  },
  {
   "cell_type": "markdown",
   "metadata": {},
   "source": [
    "### latent basket hn"
   ]
  },
  {
   "cell_type": "code",
   "execution_count": 105,
   "metadata": {},
   "outputs": [
    {
     "name": "stdout",
     "output_type": "stream",
     "text": [
      "z-dim: 32 Batch size:  128\n",
      "Epoch[5/30], Step [105/105], Reconstructed Loss: 0.0001\n",
      "Epoch[10/30], Step [105/105], Reconstructed Loss: 0.0001\n",
      "Epoch[15/30], Step [105/105], Reconstructed Loss: 0.0000\n",
      "Epoch[20/30], Step [105/105], Reconstructed Loss: 0.0000\n",
      "Epoch[25/30], Step [105/105], Reconstructed Loss: 0.0000\n",
      "Epoch[30/30], Step [105/105], Reconstructed Loss: 0.0000\n",
      "[Testing] Step [52/52], Reconstructed Loss: 0.0000\n",
      "Step [156/156], Reconstructed Loss: 0.0004\n"
     ]
    }
   ],
   "source": [
    "ae_model = autoencoder.AutoEncoder()\n",
    "ae_loss_basket = ae_model.mytrain(basket_hn, \"basket_hn\", z_dims = [32])\n",
    "_, _, basket_latent = ae_model.mytest(basket_hn, \"basket_hn\", z_dim=32, batch_size=128)"
   ]
  },
  {
   "cell_type": "code",
   "execution_count": 106,
   "metadata": {},
   "outputs": [
    {
     "name": "stdout",
     "output_type": "stream",
     "text": [
      "Training (z=32) : 0.0\n",
      "Validation (z=32) : 0.0\n"
     ]
    },
    {
     "data": {
      "image/png": "[encoded data removed]",
      "text/plain": [
       "<Figure size 432x288 with 1 Axes>"
      ]
     },
     "metadata": {
      "needs_background": "light"
     },
     "output_type": "display_data"
    }
   ],
   "source": [
    "metrics.plot_loss_wt_val(ae_loss_basket, 'ae_basket')"
   ]
  },
  {
   "cell_type": "markdown",
   "metadata": {},
   "source": [
    "### latent streamer hn"
   ]
  },
  {
   "cell_type": "code",
   "execution_count": 103,
   "metadata": {},
   "outputs": [
    {
     "name": "stdout",
     "output_type": "stream",
     "text": [
      "z-dim: 23 Batch size:  128\n",
      "Epoch[5/30], Step [196/196], Reconstructed Loss: 0.0168\n",
      "Epoch[10/30], Step [196/196], Reconstructed Loss: 0.0104\n",
      "Epoch[15/30], Step [196/196], Reconstructed Loss: 0.0078\n",
      "Epoch[20/30], Step [196/196], Reconstructed Loss: 0.0064\n",
      "Epoch[25/30], Step [196/196], Reconstructed Loss: 0.0056\n",
      "Epoch[30/30], Step [196/196], Reconstructed Loss: 0.0049\n",
      "[Testing] Step [97/97], Reconstructed Loss: 0.0061\n",
      "Step [293/293], Reconstructed Loss: 0.0043\n"
     ]
    }
   ],
   "source": [
    "ae_loss_streamer = ae_model.mytrain(streamer_hn, \"streamer_hn\", z_dims = [23])\n",
    "_, _, streamer_latent = ae_model.mytest(streamer_hn, \"streamer_hn\", z_dim=23, batch_size=128)"
   ]
  },
  {
   "cell_type": "code",
   "execution_count": 104,
   "metadata": {},
   "outputs": [
    {
     "name": "stdout",
     "output_type": "stream",
     "text": [
      "Training (z=23) : 0.0049\n",
      "Validation (z=23) : 0.0061\n"
     ]
    },
    {
     "data": {
      "image/png": "[encoded data removed]",
      "text/plain": [
       "<Figure size 432x288 with 1 Axes>"
      ]
     },
     "metadata": {
      "needs_background": "light"
     },
     "output_type": "display_data"
    }
   ],
   "source": [
    "metrics.plot_loss_wt_val(ae_loss_streamer, 'ae_streamer')"
   ]
  },
  {
   "cell_type": "markdown",
   "metadata": {},
   "source": [
    "### latent static"
   ]
  },
  {
   "cell_type": "code",
   "execution_count": 107,
   "metadata": {},
   "outputs": [
    {
     "name": "stdout",
     "output_type": "stream",
     "text": [
      "z-dim: 20 Batch size:  128\n",
      "Epoch[5/30], Step [751/751], Reconstructed Loss: 0.0028\n",
      "Epoch[10/30], Step [751/751], Reconstructed Loss: 0.0019\n",
      "Epoch[15/30], Step [751/751], Reconstructed Loss: 0.0004\n",
      "Epoch[20/30], Step [751/751], Reconstructed Loss: 0.0003\n",
      "Epoch[25/30], Step [751/751], Reconstructed Loss: 0.0003\n",
      "Epoch[30/30], Step [751/751], Reconstructed Loss: 0.0002\n",
      "[Testing] Step [370/370], Reconstructed Loss: 0.0003\n",
      "z-dim: 30 Batch size:  128\n",
      "Epoch[5/30], Step [751/751], Reconstructed Loss: 0.0012\n",
      "Epoch[10/30], Step [751/751], Reconstructed Loss: 0.0003\n",
      "Epoch[15/30], Step [751/751], Reconstructed Loss: 0.0004\n",
      "Epoch[20/30], Step [751/751], Reconstructed Loss: 0.0003\n",
      "Epoch[25/30], Step [751/751], Reconstructed Loss: 0.0003\n",
      "Epoch[30/30], Step [751/751], Reconstructed Loss: 0.0003\n",
      "[Testing] Step [370/370], Reconstructed Loss: 0.0002\n",
      "Step [1120/1120], Reconstructed Loss: 0.0004\n"
     ]
    }
   ],
   "source": [
    "ae_loss_static = ae_model.mytrain(static_address.astype('float32'), \"static\", z_dims = [20, 30])\n",
    "_, _, static_latent = ae_model.mytest(static_address.astype('float32'), \"static\", z_dim=20, batch_size=128)"
   ]
  },
  {
   "cell_type": "code",
   "execution_count": 108,
   "metadata": {},
   "outputs": [
    {
     "name": "stdout",
     "output_type": "stream",
     "text": [
      "Training (z=20) : 0.0002\n",
      "Validation (z=20) : 0.0003\n",
      "Training (z=30) : 0.0003\n",
      "Validation (z=30) : 0.0002\n"
     ]
    },
    {
     "data": {
      "image/png": "[encoded data removed]",
      "text/plain": [
       "<Figure size 432x288 with 1 Axes>"
      ]
     },
     "metadata": {
      "needs_background": "light"
     },
     "output_type": "display_data"
    }
   ],
   "source": [
    "metrics.plot_loss_wt_val(ae_loss_static, 'ae_static')"
   ]
  },
  {
   "cell_type": "markdown",
   "metadata": {},
   "source": [
    "### concatenate full context"
   ]
  },
  {
   "cell_type": "code",
   "execution_count": 110,
   "metadata": {},
   "outputs": [
    {
     "name": "stdout",
     "output_type": "stream",
     "text": [
      "total 75\n"
     ]
    },
    {
     "data": {
      "text/plain": [
       "((19906, 32), (37442, 23), (143327, 20))"
      ]
     },
     "execution_count": 110,
     "metadata": {},
     "output_type": "execute_result"
    }
   ],
   "source": [
    "print(\"total\", basket_latent.shape[1] + streamer_latent.shape[1] + static_latent.shape[1])\n",
    "basket_latent.shape, streamer_latent.shape, static_latent.shape"
   ]
  },
  {
   "cell_type": "code",
   "execution_count": 113,
   "metadata": {},
   "outputs": [
    {
     "name": "stdout",
     "output_type": "stream",
     "text": [
      "(19906, 75)\n"
     ]
    }
   ],
   "source": [
    "streamer_latent_df = pd.DataFrame(streamer_latent, index=cust_id, columns=['sdim_'+str(i+1) for i in range(streamer_latent.shape[1])]).reset_index().rename(columns={\"index\":\"asid\"})\n",
    "basket_latent_df = pd.DataFrame(basket_latent, index=cust_id2, columns=['pdim_'+str(i+1) for i in range(basket_latent.shape[1])]).reset_index().rename(columns={\"index\":\"asid\"})\n",
    "static_latent_df = pd.DataFrame(static_latent, index=static_df.asid, columns=['cdim_'+str(i+1) for i in range(static_latent.shape[1])]).reset_index().rename(columns={\"index\":\"asid\"})\n",
    "\n",
    "dfs = [basket_latent_df, streamer_latent_df, static_latent_df] \n",
    "latent_context = preprocess.combine_context(dfs, cust_id2)\n",
    "np.save('data/latent_context_new.npy', latent_context)"
   ]
  },
  {
   "cell_type": "markdown",
   "metadata": {},
   "source": [
    "## Temporal context"
   ]
  },
  {
   "cell_type": "code",
   "execution_count": 112,
   "metadata": {},
   "outputs": [
    {
     "name": "stdout",
     "output_type": "stream",
     "text": [
      "(19906, 55)\n"
     ]
    }
   ],
   "source": [
    "streamer_latent_df = pd.DataFrame(streamer_latent, index=cust_id, columns=['sdim_'+str(i+1) for i in range(streamer_latent.shape[1])]).reset_index().rename(columns={\"index\":\"asid\"})\n",
    "basket_latent_df = pd.DataFrame(basket_latent, index=cust_id2, columns=['pdim_'+str(i+1) for i in range(basket_latent.shape[1])]).reset_index().rename(columns={\"index\":\"asid\"})\n",
    "\n",
    "dfs = [basket_latent_df, streamer_latent_df] \n",
    "temporal_context = preprocess.combine_context(dfs, cust_id2)\n",
    "np.save('data/temporal_context_new.npy', temporal_context)"
   ]
  },
  {
   "cell_type": "markdown",
   "metadata": {},
   "source": [
    "## Static context"
   ]
  },
  {
   "cell_type": "code",
   "execution_count": 117,
   "metadata": {},
   "outputs": [
    {
     "name": "stdout",
     "output_type": "stream",
     "text": [
      "(19906, 20)\n"
     ]
    }
   ],
   "source": [
    "static_latent_df = pd.DataFrame(static_latent, index=static_df.asid, columns=['cdim_'+str(i+1) for i in range(static_latent.shape[1])]).reset_index().rename(columns={\"index\":\"asid\"})\n",
    "static_latent_df = static_latent_df[static_latent_df.asid.isin(cust_id2)]\n",
    "static_context = static_latent_df.set_index('asid').to_numpy()\n",
    "print(static_context.shape)\n",
    "np.save('data/static_context_new.npy', static_context)"
   ]
  },
  {
   "cell_type": "markdown",
   "metadata": {},
   "source": [
    "## MAB context (static + Bt + St)"
   ]
  },
  {
   "cell_type": "code",
   "execution_count": 118,
   "metadata": {},
   "outputs": [],
   "source": [
    "basket_seq_prods_mab, _ = preprocess.generate_basket_list(prod_n, 10)\n",
    "mabBt = preprocess.cal_basket_embedding(basket_seq_prods_mab[basket_seq_prods_mab.seq==10])\n",
    "mabSt = preprocess.generate_streamer_seq(txn_n[txn_n.seq==5], scale_streamer, 5)"
   ]
  },
  {
   "cell_type": "code",
   "execution_count": 119,
   "metadata": {},
   "outputs": [
    {
     "name": "stdout",
     "output_type": "stream",
     "text": [
      "[Train] change Double to Float\n",
      "z-dim: 32 Batch size:  128\n",
      "Epoch[5/30], Step [105/105], Reconstructed Loss: 0.0042\n",
      "Epoch[10/30], Step [105/105], Reconstructed Loss: 0.0031\n",
      "Epoch[15/30], Step [105/105], Reconstructed Loss: 0.0028\n",
      "Epoch[20/30], Step [105/105], Reconstructed Loss: 0.0025\n",
      "Epoch[25/30], Step [105/105], Reconstructed Loss: 0.0023\n",
      "Epoch[30/30], Step [105/105], Reconstructed Loss: 0.0022\n",
      "[Testing] Step [52/52], Reconstructed Loss: 0.0031\n",
      "[Test] change Double to Float\n",
      "Step [156/156], Reconstructed Loss: 0.0032\n"
     ]
    }
   ],
   "source": [
    "ae_loss_mabBt = ae_model.mytrain(mabBt, \"mabBt\", z_dims = [32])\n",
    "_, _, mabBt_latent = ae_model.mytest(mabBt, \"mabBt\", z_dim=32, batch_size=128)"
   ]
  },
  {
   "cell_type": "code",
   "execution_count": 120,
   "metadata": {},
   "outputs": [
    {
     "name": "stdout",
     "output_type": "stream",
     "text": [
      "Training (z=32) : 0.0022\n",
      "Validation (z=32) : 0.0031\n"
     ]
    },
    {
     "data": {
      "image/png": "[encoded data removed]",
      "text/plain": [
       "<Figure size 432x288 with 1 Axes>"
      ]
     },
     "metadata": {
      "needs_background": "light"
     },
     "output_type": "display_data"
    }
   ],
   "source": [
    "metrics.plot_loss_wt_val(ae_loss_mabBt, 'ae_mabBt')"
   ]
  },
  {
   "cell_type": "code",
   "execution_count": 121,
   "metadata": {},
   "outputs": [
    {
     "name": "stdout",
     "output_type": "stream",
     "text": [
      "[Train] change Double to Float\n",
      "z-dim: 23 Batch size:  128\n",
      "Epoch[5/30], Step [196/196], Reconstructed Loss: 0.1709\n",
      "Epoch[10/30], Step [196/196], Reconstructed Loss: 0.1706\n",
      "Epoch[15/30], Step [196/196], Reconstructed Loss: 0.1704\n",
      "Epoch[20/30], Step [196/196], Reconstructed Loss: 0.1704\n",
      "Epoch[25/30], Step [196/196], Reconstructed Loss: 0.1702\n",
      "Epoch[30/30], Step [196/196], Reconstructed Loss: 0.1700\n",
      "[Testing] Step [97/97], Reconstructed Loss: 0.1806\n",
      "[Test] change Double to Float\n",
      "Step [293/293], Reconstructed Loss: 0.1386\n"
     ]
    }
   ],
   "source": [
    "ae_loss_mabSt = ae_model.mytrain(mabSt, \"mabSt\", z_dims = [23])\n",
    "_, _, mabSt_latent = ae_model.mytest(mabSt, \"mabSt\", z_dim=23, batch_size=128)"
   ]
  },
  {
   "cell_type": "code",
   "execution_count": 122,
   "metadata": {},
   "outputs": [
    {
     "name": "stdout",
     "output_type": "stream",
     "text": [
      "Training (z=23) : 0.17\n",
      "Validation (z=23) : 0.1806\n"
     ]
    },
    {
     "data": {
      "image/png": "[encoded data removed]",
      "text/plain": [
       "<Figure size 432x288 with 1 Axes>"
      ]
     },
     "metadata": {
      "needs_background": "light"
     },
     "output_type": "display_data"
    }
   ],
   "source": [
    "metrics.plot_loss_wt_val(ae_loss_mabSt, 'ae_mabSt')"
   ]
  },
  {
   "cell_type": "markdown",
   "metadata": {},
   "source": [
    "### concatenate MAB context"
   ]
  },
  {
   "cell_type": "code",
   "execution_count": 123,
   "metadata": {},
   "outputs": [
    {
     "name": "stdout",
     "output_type": "stream",
     "text": [
      "(19906, 75)\n"
     ]
    }
   ],
   "source": [
    "mabBt_df = pd.DataFrame(mabBt_latent, index=cust_id2, columns=['pdim_'+str(i+1) for i in range(mabBt_latent.shape[1])]).reset_index().rename(columns={\"index\":\"asid\"})\n",
    "mabSt_df = pd.DataFrame(mabSt_latent, index=cust_id, columns=['sdim_'+str(i+1) for i in range(mabSt_latent.shape[1])]).reset_index().rename(columns={\"index\":\"asid\"})\n",
    "dfs = [mabBt_df, mabSt_df, static_latent_df]\n",
    "full_context_mab = preprocess.combine_context(dfs, cust_id2)\n",
    "np.save('data/mab_context_new.npy', full_context_mab)"
   ]
  }
 ],
 "metadata": {
  "kernelspec": {
   "display_name": "Python 3",
   "language": "python",
   "name": "python3"
  },
  "language_info": {
   "codemirror_mode": {
    "name": "ipython",
    "version": 3
   },
   "file_extension": ".py",
   "mimetype": "text/x-python",
   "name": "python",
   "nbconvert_exporter": "python",
   "pygments_lexer": "ipython3",
   "version": "3.6.9"
  }
 },
 "nbformat": 4,
 "nbformat_minor": 4
}
